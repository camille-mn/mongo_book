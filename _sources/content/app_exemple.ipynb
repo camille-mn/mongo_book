{
 "cells": [
  {
   "cell_type": "markdown",
   "id": "final-present",
   "metadata": {},
   "source": [
    "(sec:exemple)=\n",
    "# Annexe A : Exemple de fichier source\n",
    "\n",
    "N'hésitez pas à vous inspirer de ce fichier pour vos propres réalisations\n",
    "(vous pouvez télécharger le code source correspondant à l'aide du bouton dédié\n",
    "en haut à droite de cette page).\n",
    "\n",
    "Pour commencer, quelques exemples de syntaxe markdown (plus de détails\n",
    "[là](https://github.com/adam-p/markdown-here/wiki/Markdown-Cheatsheet),\n",
    "par exemple) :\n",
    "\n",
    "## Ceci est un titre de niveau 2\n",
    "\n",
    "### Ceci est un titre de niveau 3\n",
    "\n",
    "Ce texte est **en gras**, voire _en italique_.\n",
    "\n",
    "## Un peu de maths\n",
    "\n",
    "Vous pouvez utiliser des formules mathématiques $y = f(x)$, voire même :\n",
    "\n",
    "$$\n",
    "    y = f(x)\n",
    "$$\n",
    "\n",
    "## Un peu de code\n",
    "\n",
    "De la même manière, vous pouvez avoir des morceaux de code `y = f(x)` au milieu\n",
    "de votre texte, ou bien :\n",
    "\n",
    "```python\n",
    "def f(x):\n",
    "    return 2 * x\n",
    "\n",
    "print(f(2))\n",
    "```\n",
    "\n",
    "Lorsque vous voudrez présenter du code MongoDB, vous utiliserez la coloration\n",
    "syntaxique correspondant au langage `javascript` :\n",
    "\n",
    "```javascript\n",
    "db.NYfood.find(\n",
    "    {\"cuisine\": \"Chinese\", \"borough\": \"Bronx\"}\n",
    ")\n",
    "```\n",
    "\n",
    "Vous remarquerez que ce code est mis en forme, mais pas exécuté.\n",
    "\n",
    "\n",
    "On peut même imaginer mettre, en parallèle, la syntaxe MongoDB et son\n",
    "équivalent SQL :\n",
    "\n",
    "````{tabbed} MongoDB\n",
    "\n",
    "```javascript\n",
    "db.t.find(\n",
    "    {\"a\": 1},\n",
    "    {\"b\": true}\n",
    ")\n",
    "```\n",
    "````\n",
    "\n",
    "````{tabbed} Équivalent SQL\n",
    "\n",
    "```sql\n",
    "SELECT b\n",
    "FROM t\n",
    "WHERE a = 1\n",
    "```\n",
    "\n",
    "````\n",
    "\n",
    "ou encore :\n",
    "\n",
    "````{panels}\n",
    "\n",
    "MongoDB\n",
    "^^^\n",
    "```javascript\n",
    "db.t.find(\n",
    "    {\"a\": 1},\n",
    "    {\"b\": true}\n",
    ")\n",
    "```\n",
    "\n",
    "---\n",
    "\n",
    "Équivalent SQL\n",
    "^^^\n",
    "```sql\n",
    "SELECT b\n",
    "FROM t\n",
    "WHERE a = 1\n",
    "```\n",
    "\n",
    "````\n",
    "\n",
    "\n",
    "\n",
    "\n",
    "Malheureusement, dans ce cas de contenus disposés en onglets ou en \"cartes\",\n",
    "on ne peut pas\n",
    "insérer de code **exécutable** dans ces contenus\n",
    "(voir [plus bas](sec:exec)).\n",
    "\n",
    "## Mise en valeur\n",
    "\n",
    "Vous pouvez également mettre en avant certains paragraphes :\n",
    "\n",
    "```{admonition} Titre\n",
    "\n",
    "Contenu\n",
    "```\n",
    "\n",
    "```{admonition} Titre\n",
    ":class: tip\n",
    "\n",
    "Contenu\n",
    "```\n",
    "\n",
    "```{margin}\n",
    "\n",
    "Vous pouvez même écrire dans les marges !\n",
    "```\n",
    "\n",
    "Au passage, tous les caractères UTF-8 sont valides ⚠️🤣 (ce qui ne veut pas dire\n",
    "que vous devez à tout prix en abuser :)\n",
    "\n",
    "\n",
    "(sec:exec)=\n",
    "## Et maintenant, la magie !\n",
    "\n",
    "Mais le plus intéressant dans tout cela, c'est d'avoir des cellules de code\n",
    "MongoDB qui seront exécutées à la volée :"
   ]
  },
  {
   "cell_type": "code",
   "execution_count": 1,
   "id": "other-history",
   "metadata": {},
   "outputs": [
    {
     "data": {
      "text/plain": [
       "switched to db food"
      ]
     },
     "execution_count": 1,
     "metadata": {},
     "output_type": "execute_result"
    }
   ],
   "source": [
    "use food"
   ]
  },
  {
   "cell_type": "code",
   "execution_count": 2,
   "id": "dominant-charge",
   "metadata": {
    "tags": [
     "output_scroll"
    ]
   },
   "outputs": [],
   "source": [
    "db.NYfood.find(\n",
    "    {\"cuisine\": \"Chinese\", \"borough\": \"Bronx\"}\n",
    ")"
   ]
  },
  {
   "cell_type": "markdown",
   "id": "seventh-salon",
   "metadata": {},
   "source": [
    "Ici, le résultat affiché est celui obtenu lorsque l'on exécute ces deux lignes\n",
    "dans un client MongoDB."
   ]
  }
 ],
 "metadata": {
  "jupytext": {
   "cell_metadata_filter": "-all",
   "formats": "md:myst",
   "text_representation": {
    "extension": ".md",
    "format_name": "myst",
    "format_version": 0.12,
    "jupytext_version": "1.9.1"
   }
  },
  "kernelspec": {
   "display_name": "IMongo",
   "language": "",
   "name": "imongo"
  },
  "language_info": {
   "codemirror_mode": "shell",
   "file_extension": ".js",
   "mimetype": "text/x-mongodb",
   "name": "javascript"
  },
  "source_map": [
   14,
   151,
   155,
   161
  ]
 },
 "nbformat": 4,
 "nbformat_minor": 5
}