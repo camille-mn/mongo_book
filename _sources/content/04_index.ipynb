{
 "cells": [
  {
   "cell_type": "markdown",
   "id": "encouraging-franchise",
   "metadata": {},
   "source": [
    "# Les index\n",
    "\n",
    "* Auteurs/trices : Adrien VIGUE, Etienne BARON, Camille MONOT\n",
    "\n",
    "Ce chapitre traite de :\n",
    "* Index + requêtes textuelles + requêtes géographiques\n",
    "\n",
    "\n",
    "## A quoi servent-ils ?\n",
    "\n",
    "Les index prennent en charge l'exécution efficace des requêtes dans MongoDB. Sans index, MongoDB doit effectuer une analyse de collection , c'est-à-dire analyser chaque document d'une collection, pour sélectionner les documents qui correspondent à l'instruction de requête. Si un index approprié existe pour une requête, MongoDB peut utiliser l'index pour limiter le nombre de documents qu'il doit inspecter. Les index de MongoDB sont similaires aux index d'autres systèmes de base de données. MongoDB définit les index au niveau de la collection et prend en charge les index sur n'importe quel champ ou sous-champ des documents dans une collection MongoDB.\n",
    "\n",
    "En bref, les index sont un moyen de trouver rapidement et efficacement du contenu dans une base de données.\n",
    "\n",
    "## Quand les utiliser ?\n",
    "\n",
    "On met en place des index à chaque fois qu'on s'attend à avoir beaucoup de requêtes sur une clé (resp. un ensemble de clés). \n",
    "Par exemple, on souhaite récuperer les notes d'un étudiant à l'aide de son numéro étudiant. Il faudra alors mettre un index sur la clé \"numéro étudiant\" afin des réaliser des requetes efficaces pour retrouver toutes les informations de l'étudiant en fonction de son numéro.\n",
    "\n",
    "```{admonition} \n",
    "⚠️ Attention : On ne peut pas toujours utiliser des index. \n",
    "En effet, les index rendent la mise à jour de la base fastidieuse : à chaque fois que vous rajoutez de nouvelles données, \n",
    "vous devez redéfinir vos index. Il n'est donc pas judicieux d'utiliser des index sur une base où vous vous attendez à devoir \n",
    "faire des mises à jour régulières.\n",
    "```\n",
    "\n",
    "## Syntaxe adaptée\n",
    "\n",
    "```javascript\n",
    "db.collec.createIndex({\"cle\":1})\n",
    "```\n",
    "On crée ici un index dans la collection 'collec' de la base de données courante 'db'. On donne ensuite le nom de la clé. Le \":1\" signifie que l'index va trier les données dans l'ordre croissant.\n",
    "\n",
    "```{admonition} \n",
    "✍ A noter : Si on avait mis une valeur négative à la place du 1, les données auraient été triées dans l'ordre décroissant. \n",
    "Le tri n'a cependant pas d'importance sur l'efficacité de la requête.\n",
    "```\n",
    "\n",
    "## Index textuels"
   ]
  }
 ],
 "metadata": {
  "jupytext": {
   "cell_metadata_filter": "-all",
   "formats": "md:myst",
   "text_representation": {
    "extension": ".md",
    "format_name": "myst",
    "format_version": 0.12,
    "jupytext_version": "1.9.1"
   }
  },
  "kernelspec": {
   "display_name": "IMongo",
   "language": "",
   "name": "imongo"
  },
  "language_info": {
   "codemirror_mode": "shell",
   "file_extension": ".js",
   "mimetype": "text/x-mongodb",
   "name": "javascript"
  },
  "source_map": [
   14
  ]
 },
 "nbformat": 4,
 "nbformat_minor": 5
}