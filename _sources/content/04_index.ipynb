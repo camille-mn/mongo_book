{
 "cells": [
  {
   "cell_type": "markdown",
   "id": "passive-hours",
   "metadata": {},
   "source": [
    "# Les index\n",
    "\n",
    "* Auteurs/trices : Adrien VIGUE, Etienne BARON, Camille MONOT\n",
    "\n",
    "Ce chapitre traite de :\n",
    "* Index + requêtes textuelles + requêtes géographiques\n",
    "\n",
    "\n",
    "## À quoi servent-ils ?\n",
    "\n",
    "Les index prennent en charge l'exécution efficace des requêtes dans MongoDB. Sans index, MongoDB doit effectuer une analyse de collection , c'est-à-dire analyser chaque document d'une collection, pour sélectionner les documents qui correspondent à l'instruction de requête. Si un index approprié existe pour une requête, MongoDB peut utiliser l'index pour limiter le nombre de documents qu'il doit inspecter. Les index de MongoDB sont similaires aux index d'autres systèmes de base de données. MongoDB définit les index au niveau de la collection et prend en charge les index sur n'importe quel champ ou sous-champ des documents dans une collection MongoDB.\n",
    "\n",
    "En bref, les index sont un moyen de trouver rapidement et efficacement du contenu dans une base de données.\n",
    "\n",
    "## Quand les utiliser ?\n",
    "\n",
    "On met en place des index à chaque fois qu'on s'attend à avoir beaucoup de requêtes sur une clé (resp. un ensemble de clés). \n",
    "Par exemple, on souhaite récupérer les notes d'un étudiant à l'aide de son numéro étudiant. Il faudra alors mettre un index sur la clé \"numéro étudiant\" afin des réaliser des requetes efficaces pour retrouver toutes les informations de l'étudiant en fonction de son numéro.\n",
    "\n",
    "```{admonition} ⚠️ Attention\n",
    ":class: tip\n",
    "On ne peut pas toujours utiliser des index. En effet, les index rendent la mise à jour de la base fastidieuse : à chaque fois que vous\n",
    "rajoutez de nouvelles données, vous devez redéfinir vos index. Il n'est donc pas judicieux d'utiliser des index sur une base où vous vous\n",
    "attendez à devoir faire des mises à jour régulières.\n",
    "```\n",
    "\n",
    "## Syntaxe adaptée\n",
    "\n",
    "* Création d'un index\n",
    "\n",
    "```javascript\n",
    "db.collec.createIndex({\"cle\":1})\n",
    "```\n",
    "On crée ici un index dans la collection 'collec' de la base de données courante 'db'. On donne ensuite le nom du champs sur lequel on va ensuite créer la clé. Le \":1\" signifie que l'index va trier les données dans l'ordre croissant.\n",
    "\n",
    "_Exemple :_"
   ]
  },
  {
   "cell_type": "code",
   "execution_count": 1,
   "id": "posted-dylan",
   "metadata": {
    "tags": [
     "output_scroll"
    ]
   },
   "outputs": [
    {
     "data": {
      "text/plain": [
       "switched to db food"
      ]
     },
     "execution_count": 1,
     "metadata": {},
     "output_type": "execute_result"
    }
   ],
   "source": [
    "use food"
   ]
  },
  {
   "cell_type": "code",
   "execution_count": 2,
   "id": "victorian-crack",
   "metadata": {
    "tags": [
     "output_scroll"
    ]
   },
   "outputs": [
    {
     "data": {
      "text/plain": [
       "{\r\n",
       "\t\"numIndexesBefore\" : 5,\r\n",
       "\t\"numIndexesAfter\" : 5,\r\n",
       "\t\"note\" : \"all indexes already exist\",\r\n",
       "\t\"ok\" : 1\r\n",
       "}"
      ]
     },
     "execution_count": 2,
     "metadata": {},
     "output_type": "execute_result"
    }
   ],
   "source": [
    "db.NYfood.createIndex({\"borough\" : 1})"
   ]
  },
  {
   "cell_type": "markdown",
   "id": "necessary-delta",
   "metadata": {},
   "source": [
    "```{admonition} ✍ À noter\n",
    "Si on avait mis une valeur négative à la place du 1, les données auraient été triées dans l'ordre décroissant. \n",
    "Le tri n'a cependant pas d'importance sur l'efficacité de la requête.\n",
    "```\n",
    "* Opérateurs bénéficiant de l’index\n",
    "\n",
    "## Index composés\n",
    "\n",
    "## Index textuels\n",
    "\n",
    "## Index géo-spatiaux"
   ]
  }
 ],
 "metadata": {
  "jupytext": {
   "cell_metadata_filter": "-all",
   "formats": "md:myst",
   "text_representation": {
    "extension": ".md",
    "format_name": "myst",
    "format_version": 0.12,
    "jupytext_version": "1.9.1"
   }
  },
  "kernelspec": {
   "display_name": "IMongo",
   "language": "",
   "name": "imongo"
  },
  "language_info": {
   "codemirror_mode": "shell",
   "file_extension": ".js",
   "mimetype": "text/x-mongodb",
   "name": "javascript"
  },
  "source_map": [
   14,
   53,
   59,
   63
  ]
 },
 "nbformat": 4,
 "nbformat_minor": 5
}