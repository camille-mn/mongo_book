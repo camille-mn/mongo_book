{
 "cells": [
  {
   "cell_type": "markdown",
   "id": "trained-spirit",
   "metadata": {},
   "source": [
    "# Les index\n",
    "\n",
    "* Auteurs/trices : Adrien VIGUE, Etienne BARON, Camille MONOT\n",
    "\n",
    "Ce chapitre traite de :\n",
    "* Index + requêtes textuelles + requêtes géographiques"
   ]
  },
  {
   "cell_type": "markdown",
   "id": "renewable-lighting",
   "metadata": {},
   "source": [
    "## A quoi servent-ils ?\n",
    "\n",
    "Les index prennent en charge l'exécution efficace des requêtes dans MongoDB. Sans index, MongoDB doit effectuer une analyse de collection , c'est-à-dire analyser chaque document d'une collection, pour sélectionner les documents qui correspondent à l'instruction de requête. Si un index approprié existe pour une requête, MongoDB peut utiliser l'index pour limiter le nombre de documents qu'il doit inspecter. Finalement, les index sont un moyen de trouver rapidement du contenu dans une base de données.\n",
    "\n",
    "## Quand les utiliser ?\n",
    "\n",
    "On met en place des index à chaque fois qu'on s'attend à avoir beaucoup de requêtes sur une clé (resp. un ensemble de clés). \n",
    "Par exemple, on souhaite récuperer les notes d'un étudiant à l'aide de son numéro étudiant. Il faudra alors mettre un index sur la clé \"numéro étudiant\" afin des réaliser des requetes efficaces pour retrouver toutes les informations de l'étudiant en fonction de son numéro.\n",
    "\n",
    "## Syntaxe adaptée\n",
    "\n",
    "Le fichier que vous devez modifier pour ce chapitre est `mongo_book/content/04_index.md`."
   ]
  }
 ],
 "metadata": {
  "jupytext": {
   "cell_metadata_filter": "-all",
   "formats": "md:myst",
   "text_representation": {
    "extension": ".md",
    "format_name": "myst",
    "format_version": 0.12,
    "jupytext_version": "1.9.1"
   }
  },
  "kernelspec": {
   "display_name": "IMongo",
   "language": "",
   "name": "imongo"
  },
  "language_info": {
   "codemirror_mode": "shell",
   "file_extension": ".js",
   "mimetype": "text/x-mongodb",
   "name": "javascript"
  },
  "source_map": [
   14,
   23
  ]
 },
 "nbformat": 4,
 "nbformat_minor": 5
}