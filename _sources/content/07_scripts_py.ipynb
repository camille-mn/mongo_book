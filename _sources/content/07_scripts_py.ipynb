{
 "cells": [
  {
   "cell_type": "markdown",
   "id": "862dd1c1",
   "metadata": {},
   "source": [
    "(sec:pymongo)=\n",
    "# Requêtes depuis Python : `pymongo`\n",
    "\n",
    "* Auteurs/trices : Pierre Cottais, Tom Houée, Florian Guillaume\n",
    "\n",
    "Comment faire pour effectuer les requêtes présentes dans les chapitres 1 à 6 avec `pymongo` ?\n",
    "\n",
    "Le fichier que vous devez modifier pour ce chapitre est `mongo_book/content/07_scripts_py.md`.\n",
    "\n",
    "Petit exemple ici d'utilisation de `pymongo` :"
   ]
  },
  {
   "cell_type": "code",
   "execution_count": 1,
   "id": "be750e07",
   "metadata": {},
   "outputs": [
    {
     "data": {
      "text/plain": [
       "<pymongo.cursor.Cursor at 0x7ff6d193d7c0>"
      ]
     },
     "execution_count": 1,
     "metadata": {},
     "output_type": "execute_result"
    }
   ],
   "source": [
    "from pymongo import MongoClient\n",
    "\n",
    "client = MongoClient(host=\"localhost\", port=27017)\n",
    "db = client.food\n",
    "\n",
    "db.NYfood.find({\"name\": \"/^A/\"})"
   ]
  }
 ],
 "metadata": {
  "jupytext": {
   "cell_metadata_filter": "-all",
   "formats": "md:myst",
   "text_representation": {
    "extension": ".md",
    "format_name": "myst",
    "format_version": 0.12,
    "jupytext_version": "1.9.1"
   }
  },
  "kernelspec": {
   "display_name": "Python 3",
   "language": "python",
   "name": "python3"
  },
  "language_info": {
   "codemirror_mode": {
    "name": "ipython",
    "version": 3
   },
   "file_extension": ".py",
   "mimetype": "text/x-python",
   "name": "python",
   "nbconvert_exporter": "python",
   "pygments_lexer": "ipython3",
   "version": "3.8.9"
  },
  "source_map": [
   14,
   27
  ]
 },
 "nbformat": 4,
 "nbformat_minor": 5
}